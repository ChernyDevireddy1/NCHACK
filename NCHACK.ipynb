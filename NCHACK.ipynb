{
 "cells": [
  {
   "cell_type": "code",
   "execution_count": 1,
   "id": "014d5bf1",
   "metadata": {},
   "outputs": [
    {
     "name": "stdout",
     "output_type": "stream",
     "text": [
      "Requirement already satisfied: matplotlib in c:\\users\\devir\\anaconda3\\lib\\site-packages (3.5.1)\n",
      "Requirement already satisfied: python-dateutil>=2.7 in c:\\users\\devir\\anaconda3\\lib\\site-packages (from matplotlib) (2.8.2)\n",
      "Requirement already satisfied: cycler>=0.10 in c:\\users\\devir\\anaconda3\\lib\\site-packages (from matplotlib) (0.11.0)\n",
      "Requirement already satisfied: fonttools>=4.22.0 in c:\\users\\devir\\anaconda3\\lib\\site-packages (from matplotlib) (4.25.0)\n",
      "Requirement already satisfied: packaging>=20.0 in c:\\users\\devir\\anaconda3\\lib\\site-packages (from matplotlib) (21.3)\n",
      "Requirement already satisfied: numpy>=1.17 in c:\\users\\devir\\anaconda3\\lib\\site-packages (from matplotlib) (1.21.5)\n",
      "Requirement already satisfied: kiwisolver>=1.0.1 in c:\\users\\devir\\anaconda3\\lib\\site-packages (from matplotlib) (1.3.2)\n",
      "Requirement already satisfied: pillow>=6.2.0 in c:\\users\\devir\\anaconda3\\lib\\site-packages (from matplotlib) (9.0.1)\n",
      "Requirement already satisfied: pyparsing>=2.2.1 in c:\\users\\devir\\anaconda3\\lib\\site-packages (from matplotlib) (3.0.4)\n",
      "Requirement already satisfied: six>=1.5 in c:\\users\\devir\\anaconda3\\lib\\site-packages (from python-dateutil>=2.7->matplotlib) (1.16.0)\n"
     ]
    }
   ],
   "source": [
    "!pip install matplotlib\n",
    "import numpy as np\n",
    "import pandas as pd \n",
    "import matplotlib.pyplot as plt"
   ]
  },
  {
   "cell_type": "code",
   "execution_count": 2,
   "id": "483329ed",
   "metadata": {},
   "outputs": [],
   "source": [
    "df = pd.read_csv(\"Metro_mlp_uc_sfrcondo_sm_month.csv\") "
   ]
  },
  {
   "cell_type": "code",
   "execution_count": 3,
   "id": "4591dac2",
   "metadata": {},
   "outputs": [
    {
     "data": {
      "text/html": [
       "<div>\n",
       "<style scoped>\n",
       "    .dataframe tbody tr th:only-of-type {\n",
       "        vertical-align: middle;\n",
       "    }\n",
       "\n",
       "    .dataframe tbody tr th {\n",
       "        vertical-align: top;\n",
       "    }\n",
       "\n",
       "    .dataframe thead th {\n",
       "        text-align: right;\n",
       "    }\n",
       "</style>\n",
       "<table border=\"1\" class=\"dataframe\">\n",
       "  <thead>\n",
       "    <tr style=\"text-align: right;\">\n",
       "      <th></th>\n",
       "      <th>RegionID</th>\n",
       "      <th>SizeRank</th>\n",
       "      <th>RegionName</th>\n",
       "      <th>RegionType</th>\n",
       "      <th>StateName</th>\n",
       "      <th>date</th>\n",
       "      <th>avg-price</th>\n",
       "      <th>Unnamed: 7</th>\n",
       "      <th>Unnamed: 8</th>\n",
       "      <th>Unnamed: 9</th>\n",
       "    </tr>\n",
       "  </thead>\n",
       "  <tbody>\n",
       "    <tr>\n",
       "      <th>0</th>\n",
       "      <td>102001</td>\n",
       "      <td>0</td>\n",
       "      <td>United States</td>\n",
       "      <td>country</td>\n",
       "      <td>NaN</td>\n",
       "      <td>277300</td>\n",
       "      <td>287933.0</td>\n",
       "      <td>309967.0</td>\n",
       "      <td>333600.0</td>\n",
       "      <td>375733.0</td>\n",
       "    </tr>\n",
       "    <tr>\n",
       "      <th>1</th>\n",
       "      <td>394913</td>\n",
       "      <td>1</td>\n",
       "      <td>New York, NY</td>\n",
       "      <td>msa</td>\n",
       "      <td>NY</td>\n",
       "      <td>527667</td>\n",
       "      <td>549300.0</td>\n",
       "      <td>599600.0</td>\n",
       "      <td>576333.0</td>\n",
       "      <td>619333.0</td>\n",
       "    </tr>\n",
       "    <tr>\n",
       "      <th>2</th>\n",
       "      <td>753899</td>\n",
       "      <td>2</td>\n",
       "      <td>Los Angeles, CA</td>\n",
       "      <td>msa</td>\n",
       "      <td>CA</td>\n",
       "      <td>719667</td>\n",
       "      <td>765667.0</td>\n",
       "      <td>844661.0</td>\n",
       "      <td>850000.0</td>\n",
       "      <td>887667.0</td>\n",
       "    </tr>\n",
       "    <tr>\n",
       "      <th>3</th>\n",
       "      <td>394463</td>\n",
       "      <td>3</td>\n",
       "      <td>Chicago, IL</td>\n",
       "      <td>msa</td>\n",
       "      <td>IL</td>\n",
       "      <td>283333</td>\n",
       "      <td>284933.0</td>\n",
       "      <td>298267.0</td>\n",
       "      <td>289263.0</td>\n",
       "      <td>302933.0</td>\n",
       "    </tr>\n",
       "    <tr>\n",
       "      <th>4</th>\n",
       "      <td>394514</td>\n",
       "      <td>4</td>\n",
       "      <td>Dallas, TX</td>\n",
       "      <td>msa</td>\n",
       "      <td>TX</td>\n",
       "      <td>315999</td>\n",
       "      <td>317967.0</td>\n",
       "      <td>328600.0</td>\n",
       "      <td>378300.0</td>\n",
       "      <td>403667.0</td>\n",
       "    </tr>\n",
       "  </tbody>\n",
       "</table>\n",
       "</div>"
      ],
      "text/plain": [
       "   RegionID  SizeRank       RegionName RegionType StateName    date  \\\n",
       "0    102001         0    United States    country       NaN  277300   \n",
       "1    394913         1     New York, NY        msa        NY  527667   \n",
       "2    753899         2  Los Angeles, CA        msa        CA  719667   \n",
       "3    394463         3      Chicago, IL        msa        IL  283333   \n",
       "4    394514         4       Dallas, TX        msa        TX  315999   \n",
       "\n",
       "   avg-price  Unnamed: 7  Unnamed: 8  Unnamed: 9  \n",
       "0   287933.0    309967.0    333600.0    375733.0  \n",
       "1   549300.0    599600.0    576333.0    619333.0  \n",
       "2   765667.0    844661.0    850000.0    887667.0  \n",
       "3   284933.0    298267.0    289263.0    302933.0  \n",
       "4   317967.0    328600.0    378300.0    403667.0  "
      ]
     },
     "execution_count": 3,
     "metadata": {},
     "output_type": "execute_result"
    }
   ],
   "source": [
    "df.head()"
   ]
  },
  {
   "cell_type": "code",
   "execution_count": 4,
   "id": "81485947",
   "metadata": {},
   "outputs": [],
   "source": [
    "df1=df.loc[df['RegionName'] == \"Charlotte, NC\"]\n"
   ]
  },
  {
   "cell_type": "code",
   "execution_count": 5,
   "id": "b629e40b",
   "metadata": {},
   "outputs": [
    {
     "data": {
      "text/html": [
       "<div>\n",
       "<style scoped>\n",
       "    .dataframe tbody tr th:only-of-type {\n",
       "        vertical-align: middle;\n",
       "    }\n",
       "\n",
       "    .dataframe tbody tr th {\n",
       "        vertical-align: top;\n",
       "    }\n",
       "\n",
       "    .dataframe thead th {\n",
       "        text-align: right;\n",
       "    }\n",
       "</style>\n",
       "<table border=\"1\" class=\"dataframe\">\n",
       "  <thead>\n",
       "    <tr style=\"text-align: right;\">\n",
       "      <th></th>\n",
       "      <th>RegionID</th>\n",
       "      <th>SizeRank</th>\n",
       "      <th>RegionName</th>\n",
       "      <th>RegionType</th>\n",
       "      <th>StateName</th>\n",
       "      <th>date</th>\n",
       "      <th>avg-price</th>\n",
       "      <th>Unnamed: 7</th>\n",
       "      <th>Unnamed: 8</th>\n",
       "      <th>Unnamed: 9</th>\n",
       "    </tr>\n",
       "  </thead>\n",
       "  <tbody>\n",
       "    <tr>\n",
       "      <th>22</th>\n",
       "      <td>394458</td>\n",
       "      <td>22</td>\n",
       "      <td>Charlotte, NC</td>\n",
       "      <td>msa</td>\n",
       "      <td>NC</td>\n",
       "      <td>12/31/2018</td>\n",
       "      <td>297967.0</td>\n",
       "      <td>NaN</td>\n",
       "      <td>NaN</td>\n",
       "      <td>NaN</td>\n",
       "    </tr>\n",
       "    <tr>\n",
       "      <th>924</th>\n",
       "      <td>394458</td>\n",
       "      <td>22</td>\n",
       "      <td>Charlotte, NC</td>\n",
       "      <td>msa</td>\n",
       "      <td>NC</td>\n",
       "      <td>12/31/2019</td>\n",
       "      <td>299967.0</td>\n",
       "      <td>NaN</td>\n",
       "      <td>NaN</td>\n",
       "      <td>NaN</td>\n",
       "    </tr>\n",
       "    <tr>\n",
       "      <th>925</th>\n",
       "      <td>394458</td>\n",
       "      <td>22</td>\n",
       "      <td>Charlotte, NC</td>\n",
       "      <td>msa</td>\n",
       "      <td>NC</td>\n",
       "      <td>12/31/2020</td>\n",
       "      <td>316583.0</td>\n",
       "      <td>NaN</td>\n",
       "      <td>NaN</td>\n",
       "      <td>NaN</td>\n",
       "    </tr>\n",
       "    <tr>\n",
       "      <th>926</th>\n",
       "      <td>394458</td>\n",
       "      <td>22</td>\n",
       "      <td>Charlotte, NC</td>\n",
       "      <td>msa</td>\n",
       "      <td>NC</td>\n",
       "      <td>12/31/2021</td>\n",
       "      <td>355633.0</td>\n",
       "      <td>NaN</td>\n",
       "      <td>NaN</td>\n",
       "      <td>NaN</td>\n",
       "    </tr>\n",
       "    <tr>\n",
       "      <th>927</th>\n",
       "      <td>394458</td>\n",
       "      <td>22</td>\n",
       "      <td>Charlotte, NC</td>\n",
       "      <td>msa</td>\n",
       "      <td>NC</td>\n",
       "      <td>12/31/2022</td>\n",
       "      <td>368250.0</td>\n",
       "      <td>NaN</td>\n",
       "      <td>NaN</td>\n",
       "      <td>NaN</td>\n",
       "    </tr>\n",
       "  </tbody>\n",
       "</table>\n",
       "</div>"
      ],
      "text/plain": [
       "     RegionID  SizeRank     RegionName RegionType StateName        date  \\\n",
       "22     394458        22  Charlotte, NC        msa        NC  12/31/2018   \n",
       "924    394458        22  Charlotte, NC        msa        NC  12/31/2019   \n",
       "925    394458        22  Charlotte, NC        msa        NC  12/31/2020   \n",
       "926    394458        22  Charlotte, NC        msa        NC  12/31/2021   \n",
       "927    394458        22  Charlotte, NC        msa        NC  12/31/2022   \n",
       "\n",
       "     avg-price  Unnamed: 7  Unnamed: 8  Unnamed: 9  \n",
       "22    297967.0         NaN         NaN         NaN  \n",
       "924   299967.0         NaN         NaN         NaN  \n",
       "925   316583.0         NaN         NaN         NaN  \n",
       "926   355633.0         NaN         NaN         NaN  \n",
       "927   368250.0         NaN         NaN         NaN  "
      ]
     },
     "execution_count": 5,
     "metadata": {},
     "output_type": "execute_result"
    }
   ],
   "source": [
    "df1"
   ]
  },
  {
   "cell_type": "code",
   "execution_count": 13,
   "id": "81c0d9cc",
   "metadata": {},
   "outputs": [
    {
     "data": {
      "text/plain": [
       "<AxesSubplot:xlabel='date'>"
      ]
     },
     "execution_count": 13,
     "metadata": {},
     "output_type": "execute_result"
    },
    {
     "data": {
      "image/png": "[encoded data removed]",
      "text/plain": [
       "<Figure size 432x288 with 1 Axes>"
      ]
     },
     "metadata": {
      "needs_background": "light"
     },
     "output_type": "display_data"
    }
   ],
   "source": [
    "df1.plot(\"date\", \"avg-price\") #average price at the end of the year in charlotte"
   ]
  },
  {
   "cell_type": "code",
   "execution_count": null,
   "id": "d82395ee",
   "metadata": {},
   "outputs": [],
   "source": []
  },
  {
   "cell_type": "code",
   "execution_count": null,
   "id": "5bafa670",
   "metadata": {},
   "outputs": [],
   "source": []
  },
  {
   "cell_type": "code",
   "execution_count": null,
   "id": "0a28c4a5",
   "metadata": {},
   "outputs": [],
   "source": []
  },
  {
   "cell_type": "code",
   "execution_count": null,
   "id": "297a0560",
   "metadata": {},
   "outputs": [],
   "source": []
  },
  {
   "cell_type": "code",
   "execution_count": null,
   "id": "5905441f",
   "metadata": {},
   "outputs": [],
   "source": []
  }
 ],
 "metadata": {
  "kernelspec": {
   "display_name": "Python 3 (ipykernel)",
   "language": "python",
   "name": "python3"
  },
  "language_info": {
   "codemirror_mode": {
    "name": "ipython",
    "version": 3
   },
   "file_extension": ".py",
   "mimetype": "text/x-python",
   "name": "python",
   "nbconvert_exporter": "python",
   "pygments_lexer": "ipython3",
   "version": "3.9.12"
  }
 },
 "nbformat": 4,
 "nbformat_minor": 5
}
